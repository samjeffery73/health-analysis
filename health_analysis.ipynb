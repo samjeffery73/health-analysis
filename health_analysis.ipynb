{
 "cells": [
  {
   "cell_type": "markdown",
   "metadata": {},
   "source": [
    "# Sam Jeffery\n",
    "\n",
    "# Date Started: 1/21/2025\n",
    "\n",
    "# Healthcare Data Analysis and Visualization Pipeline\n",
    "\n",
    "\n",
    "\n",
    "Objective\n",
    "\n",
    "This dataset contains 1338 rows of insured data, where the Insurance charges are given against the following attributes of the insured: Age, Sex, BMI, Number of Children, Smoker and Region. The attributes are a mix of numeric and categorical variables. There are no missing or undefined values in the dataset. \n",
    "\n",
    "https://www.kaggle.com/datasets/teertha/ushealthinsurancedataset\n",
    "\n",
    "My last project was only using Python. This time I will use:\n",
    "Python to load data\n",
    "MySQL to perform queries\n",
    "then use Tableau for visualizations.\n",
    "\n",
    "\n",
    "Deliverables:\n",
    "\n",
    "    Python scripts for data cleaning and preprocessing.\n",
    "    SQL database with healthcare data and optimized schema.\n",
    "    SQL queries showcasing insightful analyses.\n",
    "    Tableau dashboard visualizing healthcare data insights.\n"
   ]
  },
  {
   "cell_type": "code",
   "execution_count": 38,
   "metadata": {},
   "outputs": [
    {
     "data": {
      "text/plain": [
       "(1338, 7)"
      ]
     },
     "execution_count": 38,
     "metadata": {},
     "output_type": "execute_result"
    }
   ],
   "source": [
    "# Basic Imports. Now I need to find a dataset.\n",
    "\n",
    "import numpy as np\n",
    "import pandas as pd\n",
    "\n",
    "df = pd.read_csv(r\"insurance.csv\")\n",
    "\n",
    "df.shape"
   ]
  },
  {
   "cell_type": "code",
   "execution_count": 39,
   "metadata": {},
   "outputs": [
    {
     "data": {
      "text/html": [
       "<div>\n",
       "<style scoped>\n",
       "    .dataframe tbody tr th:only-of-type {\n",
       "        vertical-align: middle;\n",
       "    }\n",
       "\n",
       "    .dataframe tbody tr th {\n",
       "        vertical-align: top;\n",
       "    }\n",
       "\n",
       "    .dataframe thead th {\n",
       "        text-align: right;\n",
       "    }\n",
       "</style>\n",
       "<table border=\"1\" class=\"dataframe\">\n",
       "  <thead>\n",
       "    <tr style=\"text-align: right;\">\n",
       "      <th></th>\n",
       "      <th>age</th>\n",
       "      <th>sex</th>\n",
       "      <th>bmi</th>\n",
       "      <th>children</th>\n",
       "      <th>smoker</th>\n",
       "      <th>region</th>\n",
       "      <th>charges</th>\n",
       "    </tr>\n",
       "  </thead>\n",
       "  <tbody>\n",
       "    <tr>\n",
       "      <th>0</th>\n",
       "      <td>19</td>\n",
       "      <td>female</td>\n",
       "      <td>27.900</td>\n",
       "      <td>0</td>\n",
       "      <td>yes</td>\n",
       "      <td>southwest</td>\n",
       "      <td>16884.92400</td>\n",
       "    </tr>\n",
       "    <tr>\n",
       "      <th>1</th>\n",
       "      <td>18</td>\n",
       "      <td>male</td>\n",
       "      <td>33.770</td>\n",
       "      <td>1</td>\n",
       "      <td>no</td>\n",
       "      <td>southeast</td>\n",
       "      <td>1725.55230</td>\n",
       "    </tr>\n",
       "    <tr>\n",
       "      <th>2</th>\n",
       "      <td>28</td>\n",
       "      <td>male</td>\n",
       "      <td>33.000</td>\n",
       "      <td>3</td>\n",
       "      <td>no</td>\n",
       "      <td>southeast</td>\n",
       "      <td>4449.46200</td>\n",
       "    </tr>\n",
       "    <tr>\n",
       "      <th>3</th>\n",
       "      <td>33</td>\n",
       "      <td>male</td>\n",
       "      <td>22.705</td>\n",
       "      <td>0</td>\n",
       "      <td>no</td>\n",
       "      <td>northwest</td>\n",
       "      <td>21984.47061</td>\n",
       "    </tr>\n",
       "    <tr>\n",
       "      <th>4</th>\n",
       "      <td>32</td>\n",
       "      <td>male</td>\n",
       "      <td>28.880</td>\n",
       "      <td>0</td>\n",
       "      <td>no</td>\n",
       "      <td>northwest</td>\n",
       "      <td>3866.85520</td>\n",
       "    </tr>\n",
       "  </tbody>\n",
       "</table>\n",
       "</div>"
      ],
      "text/plain": [
       "   age     sex     bmi  children smoker     region      charges\n",
       "0   19  female  27.900         0    yes  southwest  16884.92400\n",
       "1   18    male  33.770         1     no  southeast   1725.55230\n",
       "2   28    male  33.000         3     no  southeast   4449.46200\n",
       "3   33    male  22.705         0     no  northwest  21984.47061\n",
       "4   32    male  28.880         0     no  northwest   3866.85520"
      ]
     },
     "execution_count": 39,
     "metadata": {},
     "output_type": "execute_result"
    }
   ],
   "source": [
    "df.head()"
   ]
  },
  {
   "cell_type": "code",
   "execution_count": 40,
   "metadata": {},
   "outputs": [
    {
     "name": "stdout",
     "output_type": "stream",
     "text": [
      "<class 'pandas.core.frame.DataFrame'>\n",
      "RangeIndex: 1338 entries, 0 to 1337\n",
      "Data columns (total 7 columns):\n",
      " #   Column    Non-Null Count  Dtype  \n",
      "---  ------    --------------  -----  \n",
      " 0   age       1338 non-null   int64  \n",
      " 1   sex       1338 non-null   object \n",
      " 2   bmi       1338 non-null   float64\n",
      " 3   children  1338 non-null   int64  \n",
      " 4   smoker    1338 non-null   object \n",
      " 5   region    1338 non-null   object \n",
      " 6   charges   1338 non-null   float64\n",
      "dtypes: float64(2), int64(2), object(3)\n",
      "memory usage: 73.3+ KB\n"
     ]
    },
    {
     "data": {
      "text/plain": [
       "age         1338\n",
       "sex         1338\n",
       "bmi         1338\n",
       "children    1338\n",
       "smoker      1338\n",
       "region      1338\n",
       "charges     1338\n",
       "dtype: int64"
      ]
     },
     "execution_count": 40,
     "metadata": {},
     "output_type": "execute_result"
    }
   ],
   "source": [
    "df.info()\n",
    "\n",
    "df.notna().sum()"
   ]
  },
  {
   "cell_type": "markdown",
   "metadata": {},
   "source": [
    "Now, since I did a quick view of the data, and we know from the data dictionary that there are no null rows or columns, so nothing really needs to be cleaned.\n",
    "\n",
    "I will still be using Python, but I will be connecting to a SQL Database and running all of my queries from VSCode to make it easier to look at!"
   ]
  },
  {
   "cell_type": "code",
   "execution_count": 41,
   "metadata": {},
   "outputs": [],
   "source": [
    "import mysql.connector\n",
    "# login files config kept seperately\n",
    "import login_files as lf\n",
    "\n",
    "mydb = mysql.connector.connect(\n",
    "    host = 'localhost',\n",
    "    user = 'root',\n",
    "    password = lf.password\n",
    ")\n",
    "\n",
    "mycursor = mydb.cursor()\n",
    "\n",
    "# db creation\n",
    "#mycursor.execute(\"CREATE DATABASE claims\")\n",
    "\n",
    "# Setting DB Connection parameters, updating cursor\n",
    "mydb.database = 'claims'\n",
    "mycursor = mydb.cursor()\n",
    "\n"
   ]
  },
  {
   "cell_type": "markdown",
   "metadata": {},
   "source": [
    "Now that the DB is created, we need to think about the Data Model.\n",
    "\n",
    "We have a total of 7 attributes in the dataframe. I am going to split them up in to three tables. The first table will be the Patient Table.\n",
    "\n",
    "Patient will contain information on a patient, such as:\n",
    "\n",
    "patient_id -- the primary key for a patient\n",
    "age -- int\n",
    "sex -- varchar(10)\n",
    "region_id -- int, FK to the region_id in regions\n",
    "\n",
    "Then, we will store HealthData. This will be called HealthData\n",
    "\n",
    "patient_id -- the foreign key for patient identification\n",
    "bmi -- float\n",
    "children -- int\n",
    "smoker -- bool\n",
    "charges -- float\n",
    "\n",
    "Finally, we will have the region table. This table reduces data redundancy.\n",
    "\n",
    "Region_id -- int, PK\n",
    "region_name -- varchar(255)"
   ]
  },
  {
   "cell_type": "code",
   "execution_count": 42,
   "metadata": {},
   "outputs": [],
   "source": [
    "mycursor.execute(\"DROP TABLE IF EXISTS healthdata\")\n",
    "mycursor.execute(\"DROP TABLE IF EXISTS patients\")\n",
    "mycursor.execute(\"DROP TABLE IF EXISTS regions\")\n",
    "mydb.commit()"
   ]
  },
  {
   "cell_type": "code",
   "execution_count": 43,
   "metadata": {},
   "outputs": [],
   "source": [
    "# Creating the Regions table\n",
    "mycursor.execute(\"CREATE TABLE regions(region_id INT AUTO_INCREMENT PRIMARY KEY, region_name VARCHAR(255))\")"
   ]
  },
  {
   "cell_type": "code",
   "execution_count": 44,
   "metadata": {},
   "outputs": [],
   "source": [
    "# Creating the Patients Table\n",
    "mycursor.execute(\"CREATE TABLE patients (patient_id INT AUTO_INCREMENT PRIMARY KEY, age INT, sex VARCHAR(10), region_id INT, FOREIGN KEY (region_id) REFERENCES regions(region_id))\")"
   ]
  },
  {
   "cell_type": "code",
   "execution_count": 45,
   "metadata": {},
   "outputs": [],
   "source": [
    "# Creating the HealthDetails Table\n",
    "mycursor.execute(\"CREATE TABLE healthdata (patient_id INT AUTO_INCREMENT, FOREIGN KEY (patient_id) REFERENCES patients(patient_id),bmi FLOAT, children INT, smoker BOOLEAN, charges INT)\")"
   ]
  },
  {
   "cell_type": "code",
   "execution_count": 46,
   "metadata": {},
   "outputs": [
    {
     "name": "stdout",
     "output_type": "stream",
     "text": [
      "('healthdata',)\n",
      "('patients',)\n",
      "('regions',)\n"
     ]
    }
   ],
   "source": [
    "mycursor.execute(\"SHOW TABLES\")\n",
    "for x in mycursor:\n",
    "    print(x)"
   ]
  },
  {
   "cell_type": "markdown",
   "metadata": {},
   "source": [
    "Now that we have verified our tables are created, it's time to load data.\n",
    "\n",
    "There is some slight cleaning to do first, however. Most importantly, Smoker needs to be changed to be a proper boolean value.\n",
    "\n"
   ]
  },
  {
   "cell_type": "code",
   "execution_count": 47,
   "metadata": {},
   "outputs": [
    {
     "name": "stderr",
     "output_type": "stream",
     "text": [
      "C:\\Users\\njhdt\\AppData\\Local\\Temp\\ipykernel_10076\\1086562167.py:2: FutureWarning: A value is trying to be set on a copy of a DataFrame or Series through chained assignment using an inplace method.\n",
      "The behavior will change in pandas 3.0. This inplace method will never work because the intermediate object on which we are setting values always behaves as a copy.\n",
      "\n",
      "For example, when doing 'df[col].method(value, inplace=True)', try using 'df.method({col: value}, inplace=True)' or df[col] = df[col].method(value) instead, to perform the operation inplace on the original object.\n",
      "\n",
      "\n",
      "  df['smoker'].replace(('yes', 'no'), (1, 0), inplace=True)\n",
      "C:\\Users\\njhdt\\AppData\\Local\\Temp\\ipykernel_10076\\1086562167.py:2: FutureWarning: Downcasting behavior in `replace` is deprecated and will be removed in a future version. To retain the old behavior, explicitly call `result.infer_objects(copy=False)`. To opt-in to the future behavior, set `pd.set_option('future.no_silent_downcasting', True)`\n",
      "  df['smoker'].replace(('yes', 'no'), (1, 0), inplace=True)\n"
     ]
    }
   ],
   "source": [
    "# Replace yes and no with 1s and 0s\n",
    "df['smoker'].replace(('yes', 'no'), (1, 0), inplace=True)\n",
    "\n",
    "# We also changed the name of region to region_name, so let's accomodate for that\n",
    "df = df.rename(columns={'region': 'region_name'})\n",
    "\n",
    "regions_df = pd.DataFrame({\n",
    "    'region_name': ['southwest', 'southeast', 'northwest', 'northeast'],\n",
    "    'region_id': [1, 2, 3, 4]\n",
    "})\n",
    "\n",
    "region_mapping = regions_df.set_index('region_name')['region_id'].to_dict()\n",
    "df['region_id'] = df['region_name'].map(region_mapping)\n"
   ]
  },
  {
   "cell_type": "code",
   "execution_count": 48,
   "metadata": {},
   "outputs": [],
   "source": [
    "# Clean databases before loading (this wouldn't be used in a live env)\n",
    "mycursor.execute(\"DELETE FROM patients\")\n",
    "mycursor.execute(\"DELETE FROM healthdata\")\n",
    "mycursor.execute(\"DELETE FROM regions\")\n",
    "mydb.commit()\n"
   ]
  },
  {
   "cell_type": "code",
   "execution_count": 49,
   "metadata": {},
   "outputs": [
    {
     "data": {
      "text/plain": [
       "'Data Successfully Added!'"
      ]
     },
     "execution_count": 49,
     "metadata": {},
     "output_type": "execute_result"
    }
   ],
   "source": [
    "def add_data(df):\n",
    "\n",
    "    '''\n",
    "    Splits the original data frame in to three based on which attributes they have, and adds them to the database.\n",
    "\n",
    "    Args: pandas datframe\n",
    "    \n",
    "    '''\n",
    "    \n",
    "    # Split the single DF to three seperate DFs\n",
    "    try:\n",
    "        patients_df = df[['age', 'sex', 'region_id']]\n",
    "        healthdata_df = df[['bmi', 'children', 'smoker',  'charges']]\n",
    "        # Only concerned about unique regions\n",
    "        regions_df = pd.DataFrame({'region_name': df['region_name'].unique()})\n",
    "    \n",
    "        # Dict to hold Dataframes\n",
    "        df_dict = {\"regions\":regions_df, \"patients\":patients_df, \"healthdata\":healthdata_df}\n",
    "        # Now we need to do a few things on each data frame.\n",
    "        for table_name, df in df_dict.items():\n",
    "            # First, to do this iteratively, we make placeholders for the cursor.\n",
    "            placeholders = ', '.join(['%s'] * len(df.columns))\n",
    "            # Then, convert the DF to a tuple so it can be handled by SQL\n",
    "            tuples = [tuple(x) for x in df.to_numpy()]\n",
    "            # After that, we get the column names\n",
    "            columns = ', '.join(df.columns)\n",
    "            query = f\"INSERT INTO {table_name} ({columns}) VALUES ({placeholders})\"\n",
    "            mycursor.executemany(query, tuples)\n",
    "            mydb.commit()\n",
    "\n",
    "    except Exception as e:\n",
    "        return(f\"Error, ({e})\")\n",
    "    return \"Data Successfully Added!\"\n",
    "add_data(df)"
   ]
  },
  {
   "cell_type": "markdown",
   "metadata": {},
   "source": [
    "Now that our data is fully loaded, we can begin querying."
   ]
  },
  {
   "cell_type": "code",
   "execution_count": null,
   "metadata": {},
   "outputs": [],
   "source": []
  }
 ],
 "metadata": {
  "kernelspec": {
   "display_name": "venv",
   "language": "python",
   "name": "python3"
  },
  "language_info": {
   "codemirror_mode": {
    "name": "ipython",
    "version": 3
   },
   "file_extension": ".py",
   "mimetype": "text/x-python",
   "name": "python",
   "nbconvert_exporter": "python",
   "pygments_lexer": "ipython3",
   "version": "3.11.9"
  }
 },
 "nbformat": 4,
 "nbformat_minor": 2
}
